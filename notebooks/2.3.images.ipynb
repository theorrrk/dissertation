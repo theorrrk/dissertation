{
 "cells": [
  {
   "cell_type": "markdown",
   "metadata": {},
   "source": [
    "### Title"
   ]
  },
  {
   "cell_type": "code",
   "execution_count": 3,
   "metadata": {},
   "outputs": [
    {
     "name": "stdout",
     "output_type": "stream",
     "text": [
      "0.1736433649862756\n",
      "0.17364336498627583\n"
     ]
    }
   ],
   "source": [
    "print(np.sin(2*np.pi*1.027777))\n",
    "print(np.sin(2*np.pi*0.027777))"
   ]
  },
  {
   "cell_type": "markdown",
   "metadata": {},
   "source": [
    "Images sets 2.1 and 2.2 precipitate the question, does ukcp18 predict more extreme FWI ratings? (The obvious conclusion being that if it does not, I have gone wrong somewhere in my code)"
   ]
  },
  {
   "cell_type": "code",
   "execution_count": 1,
   "metadata": {},
   "outputs": [],
   "source": [
    "import scipy.stats\n",
    "import math\n",
    "import xarray\n",
    "import numpy as np\n",
    "import pandas as pd\n",
    "import os\n",
    "import matplotlib.pyplot as plt\n",
    "import warnings"
   ]
  },
  {
   "cell_type": "code",
   "execution_count": 21,
   "metadata": {},
   "outputs": [],
   "source": [
    "def get_cordex_addresses():\n",
    "    models = pd.read_csv('cordex_models.txt', sep='\\t')\n",
    "\n",
    "    # Getting file strings:\n",
    "        # Directories:\n",
    "    root = '/data/met/ukcordex/'\n",
    "    directories = [root + models['GCM'][i] + '/' +\n",
    "                   models['RCM'][i] + '/' +\n",
    "                   models['Ensemble'][i] + '/dmo/'\n",
    "                   for i in range(models.shape[0])]\n",
    "\n",
    "        # Filenames:\n",
    "    #feat. clunky for loops and error handling!\n",
    "    tas_files  = []\n",
    "    hurs_files = []\n",
    "    pr_files   = []\n",
    "    wind_files = []\n",
    "    err_indexs = []\n",
    "    print(type(err_indexs))\n",
    "    for i in range(models.shape[0]):\n",
    "        try:\n",
    "            for f_name in os.listdir(directories[i]):\n",
    "                if f_name.startswith('tas_'):\n",
    "                    tas_files.append(str(f_name))\n",
    "                if f_name.startswith('hurs_'):\n",
    "                    hurs_files.append(str(f_name))\n",
    "                if f_name.startswith('sfcWind_'):\n",
    "                    wind_files.append(str(f_name))\n",
    "                if f_name.startswith('pr_'):\n",
    "                    pr_files.append(str(f_name))\n",
    "\n",
    "        except OSError as error:\n",
    "            print(f'Inelligible directory at: {directories[i]}')\n",
    "            err_indexs.append(int(i))\n",
    "\n",
    "\n",
    "    for i in range(len(err_indexs)):\n",
    "        del directories[err_indexs[i]]\n",
    "    \n",
    "    return directories,tas_files,hurs_files,wind_files,pr_files"
   ]
  },
  {
   "cell_type": "markdown",
   "metadata": {},
   "source": [
    "###### UKCP"
   ]
  },
  {
   "cell_type": "code",
   "execution_count": 30,
   "metadata": {
    "scrolled": true
   },
   "outputs": [
    {
     "name": "stdout",
     "output_type": "stream",
     "text": [
      "Step 1 of 12\n",
      "Step 2 of 12\n",
      "Step 3 of 12\n",
      "Step 4 of 12\n",
      "Step 5 of 12\n",
      "Step 6 of 12\n",
      "Step 7 of 12\n",
      "Step 8 of 12\n",
      "Step 9 of 12\n",
      "Step 10 of 12\n",
      "Step 11 of 12\n",
      "Step 12 of 12\n",
      "(80,)\n",
      "179172000.0\n"
     ]
    }
   ],
   "source": [
    "tag = ['01','04','05','06','07','08','09','10','11','12','13','15']\n",
    "ukcp_fwi = np.zeros(80)\n",
    "length_uk = 0\n",
    "\n",
    "for i in range(len(tag)):\n",
    "    print(f'Step {i+1} of {len(tag)}')\n",
    "    \n",
    "    region_data  = xarray.open_dataset('/home/theo/data/ukcp18-uk-land-region-rll.nc')\n",
    "    region_mask = region_data.admin_region\n",
    "    region_mask = np.nan_to_num(region_mask)\n",
    "    mask = (region_mask == 0).astype(int)\n",
    "    \n",
    "    tas_file = f'/data/met/ukcp18/{tag[i]}/dmo/tas_rcp85_ukcp18_natgb_{tag[i]}_day_19801201-20801130.nc'\n",
    "    tas_data  = xarray.open_dataset(tas_file, engine = \"netcdf4\")\n",
    "\n",
    "    try:\n",
    "        months = np.array(pd.to_datetime(np.array(tas_data.time)).month)\n",
    "    except:\n",
    "        months = np.vectorize(lambda x: x.month) (np.array(tas_data.time))\n",
    "    del tas_file,tas_data\n",
    "    summer_inds=np.concatenate((np.where(months == 6)[0],np.where(months == 7)[0],np.where(months == 8)[0]),axis = 0)\n",
    "    del months\n",
    "    \n",
    "    fwi = np.load(f'/data/met/fwi/ukcp18_new_fwi_{tag[i]}.npy')[:,summer_inds,:,:]\n",
    "    fwi = np.einsum('ijkl,kl->ijkl',fwi,np.logical_not(mask)).flatten()\n",
    "    length_uk = length_uk + np.sum(np.logical_not(mask))*fwi.shape[0]/(128*108)\n",
    "    hist, bin_edges = np.histogram(fwi, bins=80, range=(0,120))\n",
    "    ukcp_fwi = ukcp_fwi + hist\n",
    "    del fwi,summer_inds, hist\n",
    "print(ukcp_fwi.shape)\n",
    "print(length_uk)"
   ]
  },
  {
   "cell_type": "markdown",
   "metadata": {},
   "source": [
    "###### CORDEX"
   ]
  },
  {
   "cell_type": "code",
   "execution_count": 31,
   "metadata": {
    "scrolled": true
   },
   "outputs": [
    {
     "name": "stdout",
     "output_type": "stream",
     "text": [
      "<class 'list'>\n",
      "Step 1 of 48\n",
      "Step 2 of 48\n",
      "Step 3 of 48\n",
      "Step 4 of 48\n",
      "Step 5 of 48\n",
      "Step 6 of 48\n",
      "Step 7 of 48\n",
      "Step 8 of 48\n",
      "Step 9 of 48\n",
      "Step 10 of 48\n",
      "Step 11 of 48\n",
      "Step 12 of 48\n",
      "Step 13 of 48\n",
      "Step 14 of 48\n",
      "Step 15 of 48\n",
      "Step 16 of 48\n",
      "Step 17 of 48\n",
      "Step 18 of 48\n",
      "Step 19 of 48\n",
      "Step 20 of 48\n",
      "Step 21 of 48\n",
      "Step 22 of 48\n",
      "Step 23 of 48\n",
      "Step 24 of 48\n",
      "Step 25 of 48\n",
      "Step 26 of 48\n",
      "Step 27 of 48\n",
      "Step 28 of 48\n",
      "Step 29 of 48\n",
      "Step 30 of 48\n",
      "Step 31 of 48\n",
      "Step 32 of 48\n",
      "Step 33 of 48\n",
      "Step 34 of 48\n",
      "Step 35 of 48\n",
      "Step 36 of 48\n",
      "Step 37 of 48\n",
      "Step 38 of 48\n",
      "Step 39 of 48\n",
      "Step 40 of 48\n",
      "Step 41 of 48\n",
      "Step 42 of 48\n",
      "Step 43 of 48\n",
      "Step 44 of 48\n",
      "Step 45 of 48\n",
      "Step 46 of 48\n",
      "Step 47 of 48\n",
      "Step 48 of 48\n",
      "(80,)\n"
     ]
    }
   ],
   "source": [
    "directories,tas_files,hurs_files,wind_files,pr_files = get_cordex_addresses()\n",
    "cordex_fwi = np.zeros(80)\n",
    "length = 0\n",
    "\n",
    "for i in range(2,50):\n",
    "    print(f'Step {i-1} of {len(directories)-1}')\n",
    "    \n",
    "    region_data  = xarray.open_dataset('/home/theo/data/ukcp18-uk-land-region-rll.nc')\n",
    "    region_mask = region_data.admin_region\n",
    "    region_mask = np.nan_to_num(region_mask)\n",
    "    mask = (region_mask == 0).astype(int)\n",
    "    \n",
    "    tas_data  = xarray.open_dataset(directories[i-1] + tas_files[i-1], engine = \"netcdf4\")\n",
    "    try:\n",
    "        months = np.array(pd.to_datetime(np.array(tas_data.time)).month)\n",
    "    except:\n",
    "        months = np.vectorize(lambda x: x.month) (np.array(tas_data.time))\n",
    "    del tas_data\n",
    "    summer_inds=np.concatenate((np.where(months == 6)[0],np.where(months == 7)[0],np.where(months == 8)[0]),axis = 0)\n",
    "    del months\n",
    "    \n",
    "    fwi = np.load(f'/data/met/fwi/ukcordex_new_fwi_{i}.npy')[:,summer_inds,:,:]\n",
    "    fwi = np.einsum('ijkl,kl->ijkl',fwi,np.logical_not(mask)).flatten()\n",
    "    length = length + np.sum(np.logical_not(mask))*fwi.shape[0]/(128*108)\n",
    "    \n",
    "    hist, bin_edges = np.histogram(fwi, bins=80, range=(0,120))\n",
    "    cordex_fwi = cordex_fwi + hist\n",
    "    del fwi,summer_inds, hist\n",
    "print(cordex_fwi.shape)"
   ]
  },
  {
   "cell_type": "code",
   "execution_count": 32,
   "metadata": {},
   "outputs": [
    {
     "name": "stdout",
     "output_type": "stream",
     "text": [
      "730955400.0\n",
      "179172000.0\n"
     ]
    }
   ],
   "source": [
    "print(length)\n",
    "print(length_uk)"
   ]
  },
  {
   "cell_type": "code",
   "execution_count": 43,
   "metadata": {},
   "outputs": [
    {
     "data": {
      "image/png": "[encoded data removed]",
      "text/plain": [
       "<Figure size 720x288 with 2 Axes>"
      ]
     },
     "metadata": {
      "needs_background": "light"
     },
     "output_type": "display_data"
    }
   ],
   "source": [
    "plt.rcParams[\"figure.figsize\"] = (10,4)\n",
    "fig,ax = plt.subplots(1,2)\n",
    "\n",
    "width = 1 * (bin_edges[1] - bin_edges[0])\n",
    "center = (bin_edges[:-1] + bin_edges[1:]) / 2\n",
    "\n",
    "weights = np.ones_like(cordex_fwi)/(length*8)\n",
    "ax[0].set_yscale('log')\n",
    "ax[0].bar(center, cordex_fwi*weights, align='center', width=width, alpha=0.4,color='red')\n",
    "ax[1].set_yscale('linear')\n",
    "ax[1].bar(center, cordex_fwi*weights, align='center', width=width, alpha=0.4,color='red')\n",
    "\n",
    "weights = np.ones_like(ukcp_fwi)/(length_uk*8)\n",
    "ax[0].set_yscale('log')\n",
    "ax[0].bar(center, ukcp_fwi*weights, align='center', width=width, alpha=0.4,color='blue')\n",
    "ax[1].set_yscale('linear')\n",
    "ax[1].bar(center, ukcp_fwi*weights, align='center', width=width, alpha=0.4,color='blue')\n",
    "\n",
    "ax[0].set_ylabel('Normalised Frequency',fontsize=13.5)\n",
    "ax[0].set_xlabel('FWI',fontsize=13.5)\n",
    "ax[0].set_title('Logarithmic',fontsize=13.5)\n",
    "ax[1].set_title('Linear',fontsize=13.5)\n",
    "ax[1].set_xlabel('FWI',fontsize=13.5)\n",
    "ax[1].set_xlim((0,20))\n",
    "\n",
    "fig.suptitle('Summer FWI Distribution for Both Ensembles',fontsize=15)\n",
    "ax[0].legend(('EuroCORDEX','UKCP18'))\n",
    "ax[1].legend(('EuroCORDEX','UKCP18'))\n",
    "\n",
    "\n",
    "plt.tight_layout()\n",
    "plt.savefig('/home/theo/final_images/2.3.images/fwi_distribution_comparison')\n"
   ]
  },
  {
   "cell_type": "markdown",
   "metadata": {},
   "source": [
    "#### Checking FWI inputs:"
   ]
  },
  {
   "cell_type": "code",
   "execution_count": 34,
   "metadata": {},
   "outputs": [
    {
     "name": "stdout",
     "output_type": "stream",
     "text": [
      "<class 'list'>\n",
      "Data loaded...\n",
      "\n",
      "-23.278839111328125,10.182262420654297,31.40447998046875\n",
      "7.52262020111084,78.85252380371094,100.07720184326172\n",
      "0.5286490321159363,27.462799072265625,105.50051879882812\n",
      "1.5045274891885434e-13,3.4682991613252394,589.960952103138\n"
     ]
    }
   ],
   "source": [
    "i = 2\n",
    "directories,tas_files,hurs_files,wind_files,pr_files = get_cordex_addresses()\n",
    "\n",
    "tas_data  = xarray.open_dataset(directories[i] + tas_files[i], engine = \"netcdf4\")\n",
    "hurs_data  = xarray.open_dataset(directories[i] + hurs_files[i], engine = \"netcdf4\")\n",
    "pr_data  = xarray.open_dataset(directories[i] + pr_files[i], engine = \"netcdf4\")\n",
    "wind_data  = xarray.open_dataset(directories[i] + wind_files[i], engine = \"netcdf4\")\n",
    "\n",
    "UK_data = np.zeros((4,tas_data.tas.shape[0],128,108))\n",
    "\n",
    "print('Data loaded...\\n')\n",
    "\n",
    "print(f'{np.min(np.array(tas_data.tas[:,:,:]) - 273.15)},{np.mean(np.array(tas_data.tas[:,:,:]) - 273.15)},{np.max(np.array(tas_data.tas[:,:,:]) - 273.15)}') #From K to C\n",
    "print(f'{np.min(np.array(hurs_data.hurs[:,:,:]))},{np.mean(np.array(hurs_data.hurs[:,:,:]))},{np.max(np.array(hurs_data.hurs[:,:,:]))}')\n",
    "print(f'{np.min(np.array(wind_data.sfcWind[:,:,:])*3.6)},{np.mean(np.array(wind_data.sfcWind[:,:,:])*3.6)},{np.max(np.array(wind_data.sfcWind[:,:,:])*3.6)}')\n",
    "print(f'{np.min(np.array(pr_data.pr[:,:,:])*86400)},{np.mean(np.array(pr_data.pr[:,:,:])*86400)},{np.max(np.array(pr_data.pr[:,:,:])*86400)}')"
   ]
  },
  {
   "cell_type": "code",
   "execution_count": 35,
   "metadata": {},
   "outputs": [
    {
     "name": "stdout",
     "output_type": "stream",
     "text": [
      "Data loaded...\n",
      "\n",
      "-23.687353134155273,11.139551162719727,38.494773864746094\n",
      "13.703125,79.83837127685547,138.1796875\n",
      "0.4007812440395355,27.79623794555664,101.37216186523438\n",
      "0.0,3.3872854709625244,691.3892211914062\n"
     ]
    }
   ],
   "source": [
    "tags = ['01','04','05','06','07','08','09','10','11','12','13','15']\n",
    "i=0\n",
    "tas_data = xarray.open_dataset(f'/home/theo/data/ukcp18/tas_rcp85_ukcp18_natgb_{tags[i]}_day_19801201-20801130.nc')\n",
    "hurs_data= xarray.open_dataset(f'/home/theo/data/ukcp18/hurs_rcp85_ukcp18_natgb_{tags[i]}_day_19801201-20801130.nc')\n",
    "wind_data= xarray.open_dataset(f'/home/theo/data/ukcp18/sfcWind_rcp85_ukcp18_natgb_{tags[i]}_day_19801201-20801130.nc')\n",
    "pr_data  = xarray.open_dataset(f'/home/theo/data/ukcp18/pr_rcp85_ukcp18_natgb_{tags[i]}_day_19801201-20801130.nc')\n",
    "\n",
    "UK_data = np.zeros((4,36000,128,108))\n",
    "\n",
    "print('Data loaded...\\n')\n",
    "\n",
    "print(f'{np.min(np.array(tas_data.tas[:,:,:]))},{np.mean(np.array(tas_data.tas[:,:,:]))},{np.max(np.array(tas_data.tas[:,:,:]))}') #From K to C\n",
    "print(f'{np.min(np.array(hurs_data.hurs[:,:,:]))},{np.mean(np.array(hurs_data.hurs[:,:,:]))},{np.max(np.array(hurs_data.hurs[:,:,:]))}')\n",
    "print(f'{np.min(np.array(wind_data.sfcWind[:,:,:])*3.6)},{np.mean(np.array(wind_data.sfcWind[:,:,:])*3.6)},{np.max(np.array(wind_data.sfcWind[:,:,:])*3.6)}')\n",
    "print(f'{np.min(np.array(pr_data.pr[:,:,:]))},{np.mean(np.array(pr_data.pr[:,:,:]))},{np.max(np.array(pr_data.pr[:,:,:]))}')\n"
   ]
  }
 ],
 "metadata": {
  "kernelspec": {
   "display_name": "Python 3",
   "language": "python",
   "name": "python3"
  },
  "language_info": {
   "codemirror_mode": {
    "name": "ipython",
    "version": 3
   },
   "file_extension": ".py",
   "mimetype": "text/x-python",
   "name": "python",
   "nbconvert_exporter": "python",
   "pygments_lexer": "ipython3",
   "version": "3.8.5"
  }
 },
 "nbformat": 4,
 "nbformat_minor": 4
}
